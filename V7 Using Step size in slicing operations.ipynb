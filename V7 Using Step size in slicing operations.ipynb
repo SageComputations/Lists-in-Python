{
 "cells": [
  {
   "cell_type": "code",
   "execution_count": 1,
   "id": "640dfa5e",
   "metadata": {},
   "outputs": [
    {
     "data": {
      "text/plain": [
       "['Maruti 800',\n",
       " 'Toyota Fortuner',\n",
       " 'Lamborghini Gallardo',\n",
       " 'Ferrari',\n",
       " 'Aston Martin',\n",
       " 'Porsche Carrera']"
      ]
     },
     "execution_count": 1,
     "metadata": {},
     "output_type": "execute_result"
    }
   ],
   "source": [
    "my_car_list = ['Maruti 800','Toyota Fortuner','Lamborghini Gallardo','Ferrari','Aston Martin','Porsche Carrera']\n",
    "my_car_list"
   ]
  },
  {
   "cell_type": "markdown",
   "id": "64963369",
   "metadata": {},
   "source": [
    "## List_name[start_index:end_index:step_size]\n",
    "#### Step size is the number of lements to step over when accessing the list"
   ]
  },
  {
   "cell_type": "code",
   "execution_count": 2,
   "id": "1ea9e891",
   "metadata": {},
   "outputs": [
    {
     "data": {
      "text/plain": [
       "['Maruti 800',\n",
       " 'Toyota Fortuner',\n",
       " 'Lamborghini Gallardo',\n",
       " 'Ferrari',\n",
       " 'Aston Martin']"
      ]
     },
     "execution_count": 2,
     "metadata": {},
     "output_type": "execute_result"
    }
   ],
   "source": [
    "my_car_list[0:5:] #By default step size is 1"
   ]
  },
  {
   "cell_type": "code",
   "execution_count": 3,
   "id": "69d261ee",
   "metadata": {},
   "outputs": [
    {
     "data": {
      "text/plain": [
       "['Maruti 800', 'Lamborghini Gallardo', 'Aston Martin']"
      ]
     },
     "execution_count": 3,
     "metadata": {},
     "output_type": "execute_result"
    }
   ],
   "source": [
    "my_car_list[::2]"
   ]
  },
  {
   "cell_type": "code",
   "execution_count": 4,
   "id": "7e31a14a",
   "metadata": {},
   "outputs": [
    {
     "data": {
      "text/plain": [
       "['Maruti 800', 'Lamborghini Gallardo', 'Aston Martin']"
      ]
     },
     "execution_count": 4,
     "metadata": {},
     "output_type": "execute_result"
    }
   ],
   "source": [
    "my_car_list[0:5:2] "
   ]
  },
  {
   "cell_type": "code",
   "execution_count": 6,
   "id": "c0d4eafa",
   "metadata": {},
   "outputs": [
    {
     "data": {
      "text/plain": [
       "['Lamborghini Gallardo', 'Aston Martin']"
      ]
     },
     "execution_count": 6,
     "metadata": {},
     "output_type": "execute_result"
    }
   ],
   "source": [
    "my_car_list[2:5:2] "
   ]
  },
  {
   "cell_type": "code",
   "execution_count": 7,
   "id": "01c45f7c",
   "metadata": {},
   "outputs": [
    {
     "data": {
      "text/plain": [
       "['Lamborghini Gallardo']"
      ]
     },
     "execution_count": 7,
     "metadata": {},
     "output_type": "execute_result"
    }
   ],
   "source": [
    "my_car_list[2:5:3] "
   ]
  },
  {
   "cell_type": "code",
   "execution_count": 8,
   "id": "cce9eeb0",
   "metadata": {},
   "outputs": [
    {
     "data": {
      "text/plain": [
       "['Maruti 800', 'Ferrari']"
      ]
     },
     "execution_count": 8,
     "metadata": {},
     "output_type": "execute_result"
    }
   ],
   "source": [
    "my_car_list[0:5:3] "
   ]
  },
  {
   "cell_type": "code",
   "execution_count": 9,
   "id": "683bce52",
   "metadata": {},
   "outputs": [
    {
     "data": {
      "text/plain": [
       "['Toyota Fortuner', 'Ferrari']"
      ]
     },
     "execution_count": 9,
     "metadata": {},
     "output_type": "execute_result"
    }
   ],
   "source": [
    "my_car_list[1:4:2] "
   ]
  },
  {
   "cell_type": "code",
   "execution_count": 10,
   "id": "443c029e",
   "metadata": {},
   "outputs": [
    {
     "data": {
      "text/plain": [
       "['Maruti 800',\n",
       " 'Toyota Fortuner',\n",
       " 'Lamborghini Gallardo',\n",
       " 'Ferrari',\n",
       " 'Aston Martin',\n",
       " 'Porsche Carrera']"
      ]
     },
     "execution_count": 10,
     "metadata": {},
     "output_type": "execute_result"
    }
   ],
   "source": [
    "my_car_list"
   ]
  },
  {
   "cell_type": "code",
   "execution_count": 11,
   "id": "d30a7609",
   "metadata": {},
   "outputs": [
    {
     "data": {
      "text/plain": [
       "['Porsche Carrera',\n",
       " 'Aston Martin',\n",
       " 'Ferrari',\n",
       " 'Lamborghini Gallardo',\n",
       " 'Toyota Fortuner',\n",
       " 'Maruti 800']"
      ]
     },
     "execution_count": 11,
     "metadata": {},
     "output_type": "execute_result"
    }
   ],
   "source": [
    "my_car_list[::-1]  #Will access our list in reverse order"
   ]
  },
  {
   "cell_type": "code",
   "execution_count": 12,
   "id": "f2b05d49",
   "metadata": {},
   "outputs": [
    {
     "data": {
      "text/plain": [
       "['Lamborghini Gallardo', 'Toyota Fortuner']"
      ]
     },
     "execution_count": 12,
     "metadata": {},
     "output_type": "execute_result"
    }
   ],
   "source": [
    "my_car_list[2:0:-1] "
   ]
  },
  {
   "cell_type": "code",
   "execution_count": 13,
   "id": "e528f3e8",
   "metadata": {},
   "outputs": [
    {
     "data": {
      "text/plain": [
       "['Aston Martin', 'Ferrari', 'Lamborghini Gallardo']"
      ]
     },
     "execution_count": 13,
     "metadata": {},
     "output_type": "execute_result"
    }
   ],
   "source": [
    "my_car_list[4:1:-1] "
   ]
  },
  {
   "cell_type": "code",
   "execution_count": 16,
   "id": "00994a22",
   "metadata": {},
   "outputs": [
    {
     "data": {
      "text/plain": [
       "['Lamborghini Gallardo', 'Toyota Fortuner']"
      ]
     },
     "execution_count": 16,
     "metadata": {},
     "output_type": "execute_result"
    }
   ],
   "source": [
    "my_car_list[-4:0:-1] "
   ]
  },
  {
   "cell_type": "code",
   "execution_count": 17,
   "id": "723d5a17",
   "metadata": {},
   "outputs": [
    {
     "data": {
      "text/plain": [
       "['Porsche Carrera', 'Ferrari', 'Toyota Fortuner']"
      ]
     },
     "execution_count": 17,
     "metadata": {},
     "output_type": "execute_result"
    }
   ],
   "source": [
    "my_car_list[::-2] "
   ]
  },
  {
   "cell_type": "code",
   "execution_count": 18,
   "id": "089b70a8",
   "metadata": {},
   "outputs": [
    {
     "name": "stdout",
     "output_type": "stream",
     "text": [
      "['Maruti 800', 'Toyota Fortuner', 'Lamborghini Gallardo', 'Ferrari', 'Aston Martin', 'Porsche Carrera']\n"
     ]
    },
    {
     "data": {
      "text/plain": [
       "6"
      ]
     },
     "execution_count": 18,
     "metadata": {},
     "output_type": "execute_result"
    }
   ],
   "source": [
    "print(my_car_list)\n",
    "len(my_car_list)"
   ]
  },
  {
   "cell_type": "code",
   "execution_count": 19,
   "id": "fcc43936",
   "metadata": {},
   "outputs": [],
   "source": [
    "my_car_list[6:-1] = ['Kia Seltos','Hyundai Santro']"
   ]
  },
  {
   "cell_type": "code",
   "execution_count": 21,
   "id": "09add7d8",
   "metadata": {},
   "outputs": [
    {
     "data": {
      "text/plain": [
       "['Maruti 800',\n",
       " 'Toyota Fortuner',\n",
       " 'Lamborghini Gallardo',\n",
       " 'Ferrari',\n",
       " 'Aston Martin',\n",
       " 'Porsche Carrera',\n",
       " 'Kia Seltos',\n",
       " 'Hyundai Santro']"
      ]
     },
     "execution_count": 21,
     "metadata": {},
     "output_type": "execute_result"
    }
   ],
   "source": [
    "my_car_list"
   ]
  },
  {
   "cell_type": "markdown",
   "id": "ee67e675",
   "metadata": {},
   "source": [
    "# in command to check whether a particular element is in a list"
   ]
  },
  {
   "cell_type": "code",
   "execution_count": 22,
   "id": "f78fe1fe",
   "metadata": {},
   "outputs": [
    {
     "data": {
      "text/plain": [
       "True"
      ]
     },
     "execution_count": 22,
     "metadata": {},
     "output_type": "execute_result"
    }
   ],
   "source": [
    "'Kia Seltos' in my_car_list"
   ]
  },
  {
   "cell_type": "code",
   "execution_count": 23,
   "id": "867214b2",
   "metadata": {},
   "outputs": [
    {
     "data": {
      "text/plain": [
       "'Kia Seltos'"
      ]
     },
     "execution_count": 23,
     "metadata": {},
     "output_type": "execute_result"
    }
   ],
   "source": [
    "my_car_list.pop(-2)"
   ]
  },
  {
   "cell_type": "code",
   "execution_count": 24,
   "id": "3406f45c",
   "metadata": {},
   "outputs": [
    {
     "data": {
      "text/plain": [
       "False"
      ]
     },
     "execution_count": 24,
     "metadata": {},
     "output_type": "execute_result"
    }
   ],
   "source": [
    "'Kia Seltos' in my_car_list"
   ]
  },
  {
   "cell_type": "code",
   "execution_count": 25,
   "id": "d09928c9",
   "metadata": {},
   "outputs": [
    {
     "data": {
      "text/plain": [
       "['Maruti 800',\n",
       " 'Toyota Fortuner',\n",
       " 'Lamborghini Gallardo',\n",
       " 'Ferrari',\n",
       " 'Aston Martin',\n",
       " 'Porsche Carrera',\n",
       " 'Hyundai Santro']"
      ]
     },
     "execution_count": 25,
     "metadata": {},
     "output_type": "execute_result"
    }
   ],
   "source": [
    "my_car_list"
   ]
  },
  {
   "cell_type": "code",
   "execution_count": null,
   "id": "3063f8e2",
   "metadata": {},
   "outputs": [],
   "source": []
  }
 ],
 "metadata": {
  "kernelspec": {
   "display_name": "Python 3 (ipykernel)",
   "language": "python",
   "name": "python3"
  },
  "language_info": {
   "codemirror_mode": {
    "name": "ipython",
    "version": 3
   },
   "file_extension": ".py",
   "mimetype": "text/x-python",
   "name": "python",
   "nbconvert_exporter": "python",
   "pygments_lexer": "ipython3",
   "version": "3.9.12"
  }
 },
 "nbformat": 4,
 "nbformat_minor": 5
}
