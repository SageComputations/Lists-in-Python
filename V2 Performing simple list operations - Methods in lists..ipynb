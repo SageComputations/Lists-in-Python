{
 "cells": [
  {
   "cell_type": "code",
   "execution_count": 1,
   "id": "a60f2a34",
   "metadata": {},
   "outputs": [
    {
     "data": {
      "text/plain": [
       "['Mahindra Thar', 'Maruti Brezza', 'Hyundai Venue', 'Kia Sonet']"
      ]
     },
     "execution_count": 1,
     "metadata": {},
     "output_type": "execute_result"
    }
   ],
   "source": [
    "cars_list = ['Mahindra Thar','Maruti Brezza','Hyundai Venue','Kia Sonet']\n",
    "\n",
    "cars_list"
   ]
  },
  {
   "cell_type": "code",
   "execution_count": 2,
   "id": "3f11f6eb",
   "metadata": {},
   "outputs": [
    {
     "ename": "IndexError",
     "evalue": "list assignment index out of range",
     "output_type": "error",
     "traceback": [
      "\u001b[1;31m---------------------------------------------------------------------------\u001b[0m",
      "\u001b[1;31mIndexError\u001b[0m                                Traceback (most recent call last)",
      "Input \u001b[1;32mIn [2]\u001b[0m, in \u001b[0;36m<cell line: 1>\u001b[1;34m()\u001b[0m\n\u001b[1;32m----> 1\u001b[0m cars_list[\u001b[38;5;241m4\u001b[39m] \u001b[38;5;241m=\u001b[39m \u001b[38;5;124m'\u001b[39m\u001b[38;5;124mMaruti Alto\u001b[39m\u001b[38;5;124m'\u001b[39m\n",
      "\u001b[1;31mIndexError\u001b[0m: list assignment index out of range"
     ]
    }
   ],
   "source": [
    "cars_list[4] = 'Maruti Alto'"
   ]
  },
  {
   "cell_type": "markdown",
   "id": "96d14045",
   "metadata": {},
   "source": [
    "# 1. Append method to add the element at the end of the list"
   ]
  },
  {
   "cell_type": "code",
   "execution_count": 3,
   "id": "0c2cdfc3",
   "metadata": {},
   "outputs": [
    {
     "data": {
      "text/plain": [
       "['Mahindra Thar', 'Maruti Brezza', 'Hyundai Venue', 'Kia Sonet', 'Maruti Alto']"
      ]
     },
     "execution_count": 3,
     "metadata": {},
     "output_type": "execute_result"
    }
   ],
   "source": [
    "cars_list.append('Maruti Alto')\n",
    "\n",
    "cars_list"
   ]
  },
  {
   "cell_type": "code",
   "execution_count": 4,
   "id": "82806dd3",
   "metadata": {},
   "outputs": [
    {
     "ename": "TypeError",
     "evalue": "list.append() takes exactly one argument (2 given)",
     "output_type": "error",
     "traceback": [
      "\u001b[1;31m---------------------------------------------------------------------------\u001b[0m",
      "\u001b[1;31mTypeError\u001b[0m                                 Traceback (most recent call last)",
      "Input \u001b[1;32mIn [4]\u001b[0m, in \u001b[0;36m<cell line: 1>\u001b[1;34m()\u001b[0m\n\u001b[1;32m----> 1\u001b[0m \u001b[43mcars_list\u001b[49m\u001b[38;5;241;43m.\u001b[39;49m\u001b[43mappend\u001b[49m\u001b[43m(\u001b[49m\u001b[38;5;124;43m'\u001b[39;49m\u001b[38;5;124;43mTata Nano\u001b[39;49m\u001b[38;5;124;43m'\u001b[39;49m\u001b[43m,\u001b[49m\u001b[38;5;124;43m'\u001b[39;49m\u001b[38;5;124;43mHonda City\u001b[39;49m\u001b[38;5;124;43m'\u001b[39;49m\u001b[43m)\u001b[49m \u001b[38;5;66;03m#Append method works with only one element\u001b[39;00m\n\u001b[0;32m      3\u001b[0m cars_list\n",
      "\u001b[1;31mTypeError\u001b[0m: list.append() takes exactly one argument (2 given)"
     ]
    }
   ],
   "source": [
    "cars_list.append('Tata Nano','Honda City') #Append method works with only one element\n",
    "\n",
    "cars_list"
   ]
  },
  {
   "cell_type": "code",
   "execution_count": 5,
   "id": "2b391b24",
   "metadata": {},
   "outputs": [
    {
     "data": {
      "text/plain": [
       "5"
      ]
     },
     "execution_count": 5,
     "metadata": {},
     "output_type": "execute_result"
    }
   ],
   "source": [
    "len(cars_list)"
   ]
  },
  {
   "cell_type": "markdown",
   "id": "1ec96bf8",
   "metadata": {},
   "source": [
    "# 2. Insert method is used to insert any element a particular index position in the list"
   ]
  },
  {
   "cell_type": "code",
   "execution_count": 6,
   "id": "8edd7370",
   "metadata": {},
   "outputs": [
    {
     "data": {
      "text/plain": [
       "['Mahindra Thar',\n",
       " 'Maruti Brezza',\n",
       " 'Hyundai Venue',\n",
       " 'Kia Sonet',\n",
       " 'Maruti Alto',\n",
       " 'Tata Nano']"
      ]
     },
     "execution_count": 6,
     "metadata": {},
     "output_type": "execute_result"
    }
   ],
   "source": [
    "cars_list.insert(6, 'Tata Nano')\n",
    "\n",
    "cars_list"
   ]
  },
  {
   "cell_type": "code",
   "execution_count": 7,
   "id": "826e9b90",
   "metadata": {},
   "outputs": [
    {
     "data": {
      "text/plain": [
       "6"
      ]
     },
     "execution_count": 7,
     "metadata": {},
     "output_type": "execute_result"
    }
   ],
   "source": [
    "len(cars_list)"
   ]
  },
  {
   "cell_type": "code",
   "execution_count": 8,
   "id": "aab67364",
   "metadata": {},
   "outputs": [
    {
     "data": {
      "text/plain": [
       "['Mahindra Thar',\n",
       " 'Maruti Brezza',\n",
       " 'Hyundai Venue',\n",
       " 'Kia Sonet',\n",
       " 'Maruti Alto',\n",
       " 'Tata Altroz',\n",
       " 'Tata Nano']"
      ]
     },
     "execution_count": 8,
     "metadata": {},
     "output_type": "execute_result"
    }
   ],
   "source": [
    "cars_list.insert(5,'Tata Altroz')\n",
    "\n",
    "cars_list #python remembers that the last element was inserted at pos 6,\n",
    "          #therefore it inserts at the second last position."
   ]
  },
  {
   "cell_type": "markdown",
   "id": "139ec9ec",
   "metadata": {},
   "source": [
    "# 3. Extend function is used to add multiple elements at the end of the list."
   ]
  },
  {
   "cell_type": "code",
   "execution_count": 9,
   "id": "814e1239",
   "metadata": {},
   "outputs": [
    {
     "data": {
      "text/plain": [
       "['Mahindra Thar',\n",
       " 'Maruti Brezza',\n",
       " 'Hyundai Venue',\n",
       " 'Kia Sonet',\n",
       " 'Maruti Alto',\n",
       " 'Tata Altroz',\n",
       " 'Tata Nano',\n",
       " 'Honda City',\n",
       " 'Hyundai Accent']"
      ]
     },
     "execution_count": 9,
     "metadata": {},
     "output_type": "execute_result"
    }
   ],
   "source": [
    "cars_list.extend(['Honda City','Hyundai Accent'])\n",
    "\n",
    "cars_list"
   ]
  },
  {
   "cell_type": "code",
   "execution_count": 10,
   "id": "2c17a0b5",
   "metadata": {},
   "outputs": [
    {
     "data": {
      "text/plain": [
       "['Royal enfield bullet', 'KTM Duke', 'TVS Apache']"
      ]
     },
     "execution_count": 10,
     "metadata": {},
     "output_type": "execute_result"
    }
   ],
   "source": [
    "bikes_list = ['Royal enfield bullet','KTM Duke','TVS Apache']\n",
    "bikes_list"
   ]
  },
  {
   "cell_type": "markdown",
   "id": "34722c05",
   "metadata": {},
   "source": [
    "# 4. Concatenation - Two lists can be added together with '+'"
   ]
  },
  {
   "cell_type": "code",
   "execution_count": 11,
   "id": "17d6da61",
   "metadata": {},
   "outputs": [
    {
     "data": {
      "text/plain": [
       "['Mahindra Thar',\n",
       " 'Maruti Brezza',\n",
       " 'Hyundai Venue',\n",
       " 'Kia Sonet',\n",
       " 'Maruti Alto',\n",
       " 'Tata Altroz',\n",
       " 'Tata Nano',\n",
       " 'Honda City',\n",
       " 'Hyundai Accent',\n",
       " 'Royal enfield bullet',\n",
       " 'KTM Duke',\n",
       " 'TVS Apache']"
      ]
     },
     "execution_count": 11,
     "metadata": {},
     "output_type": "execute_result"
    }
   ],
   "source": [
    "Automotive_list = cars_list + bikes_list\n",
    "Automotive_list"
   ]
  },
  {
   "cell_type": "code",
   "execution_count": null,
   "id": "b31af330",
   "metadata": {},
   "outputs": [],
   "source": [
    "cars_list #Original list is not affected"
   ]
  },
  {
   "cell_type": "markdown",
   "id": "59ff6d0f",
   "metadata": {},
   "source": [
    "# 5. Index function is used to acces the index position of any particular element"
   ]
  },
  {
   "cell_type": "code",
   "execution_count": 12,
   "id": "ca571f9f",
   "metadata": {},
   "outputs": [
    {
     "data": {
      "text/plain": [
       "6"
      ]
     },
     "execution_count": 12,
     "metadata": {},
     "output_type": "execute_result"
    }
   ],
   "source": [
    "Automotive_list.index('Tata Nano')"
   ]
  },
  {
   "cell_type": "code",
   "execution_count": 13,
   "id": "23539a68",
   "metadata": {},
   "outputs": [
    {
     "ename": "ValueError",
     "evalue": "'tata Nano' is not in list",
     "output_type": "error",
     "traceback": [
      "\u001b[1;31m---------------------------------------------------------------------------\u001b[0m",
      "\u001b[1;31mValueError\u001b[0m                                Traceback (most recent call last)",
      "Input \u001b[1;32mIn [13]\u001b[0m, in \u001b[0;36m<cell line: 1>\u001b[1;34m()\u001b[0m\n\u001b[1;32m----> 1\u001b[0m \u001b[43mAutomotive_list\u001b[49m\u001b[38;5;241;43m.\u001b[39;49m\u001b[43mindex\u001b[49m\u001b[43m(\u001b[49m\u001b[38;5;124;43m'\u001b[39;49m\u001b[38;5;124;43mtata Nano\u001b[39;49m\u001b[38;5;124;43m'\u001b[39;49m\u001b[43m)\u001b[49m\n",
      "\u001b[1;31mValueError\u001b[0m: 'tata Nano' is not in list"
     ]
    }
   ],
   "source": [
    "Automotive_list.index('tata Nano') #Name should be an exact match"
   ]
  },
  {
   "cell_type": "code",
   "execution_count": 14,
   "id": "de411180",
   "metadata": {},
   "outputs": [
    {
     "data": {
      "text/plain": [
       "10"
      ]
     },
     "execution_count": 14,
     "metadata": {},
     "output_type": "execute_result"
    }
   ],
   "source": [
    "Automotive_list.index('KTM Duke')"
   ]
  },
  {
   "cell_type": "markdown",
   "id": "5960c635",
   "metadata": {},
   "source": [
    "# 6. Remove method is uesd to remove any element from the list"
   ]
  },
  {
   "cell_type": "code",
   "execution_count": 15,
   "id": "26db5657",
   "metadata": {},
   "outputs": [
    {
     "data": {
      "text/plain": [
       "['Mahindra Thar',\n",
       " 'Maruti Brezza',\n",
       " 'Hyundai Venue',\n",
       " 'Kia Sonet',\n",
       " 'Tata Altroz',\n",
       " 'Tata Nano',\n",
       " 'Honda City',\n",
       " 'Hyundai Accent',\n",
       " 'Royal enfield bullet',\n",
       " 'KTM Duke',\n",
       " 'TVS Apache']"
      ]
     },
     "execution_count": 15,
     "metadata": {},
     "output_type": "execute_result"
    }
   ],
   "source": [
    "Automotive_list.remove('Maruti Alto')\n",
    "\n",
    "Automotive_list"
   ]
  },
  {
   "cell_type": "code",
   "execution_count": null,
   "id": "95df5647",
   "metadata": {},
   "outputs": [],
   "source": []
  }
 ],
 "metadata": {
  "kernelspec": {
   "display_name": "Python 3 (ipykernel)",
   "language": "python",
   "name": "python3"
  },
  "language_info": {
   "codemirror_mode": {
    "name": "ipython",
    "version": 3
   },
   "file_extension": ".py",
   "mimetype": "text/x-python",
   "name": "python",
   "nbconvert_exporter": "python",
   "pygments_lexer": "ipython3",
   "version": "3.9.12"
  }
 },
 "nbformat": 4,
 "nbformat_minor": 5
}
