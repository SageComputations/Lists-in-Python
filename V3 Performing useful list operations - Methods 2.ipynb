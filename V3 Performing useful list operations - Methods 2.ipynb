{
 "cells": [
  {
   "cell_type": "code",
   "execution_count": 1,
   "id": "a233585b",
   "metadata": {},
   "outputs": [
    {
     "data": {
      "text/plain": [
       "['Mahindra Thar', 'Maruti Brezza', 'Hyundai Venue', 'Kia Sonet']"
      ]
     },
     "execution_count": 1,
     "metadata": {},
     "output_type": "execute_result"
    }
   ],
   "source": [
    "cars_list = ['Mahindra Thar','Maruti Brezza','Hyundai Venue','Kia Sonet']\n",
    "\n",
    "cars_list"
   ]
  },
  {
   "cell_type": "markdown",
   "id": "d00206dd",
   "metadata": {},
   "source": [
    "# 1. a += a"
   ]
  },
  {
   "cell_type": "code",
   "execution_count": 2,
   "id": "f0ff2be2",
   "metadata": {},
   "outputs": [
    {
     "data": {
      "text/plain": [
       "['Mahindra Thar',\n",
       " 'Maruti Brezza',\n",
       " 'Hyundai Venue',\n",
       " 'Kia Sonet',\n",
       " 'Toyota Corolla',\n",
       " 'Toyota Fortuner']"
      ]
     },
     "execution_count": 2,
     "metadata": {},
     "output_type": "execute_result"
    }
   ],
   "source": [
    "cars_list += ['Toyota Corolla','Toyota Fortuner']\n",
    "\n",
    "cars_list"
   ]
  },
  {
   "cell_type": "markdown",
   "id": "4db40762",
   "metadata": {},
   "source": [
    "# 2. Sort method - default is ascending sort or according to alphabetical order in case of strings"
   ]
  },
  {
   "cell_type": "code",
   "execution_count": 3,
   "id": "4e6c68e8",
   "metadata": {},
   "outputs": [
    {
     "data": {
      "text/plain": [
       "['Hyundai Venue',\n",
       " 'Kia Sonet',\n",
       " 'Mahindra Thar',\n",
       " 'Maruti Brezza',\n",
       " 'Toyota Corolla',\n",
       " 'Toyota Fortuner']"
      ]
     },
     "execution_count": 3,
     "metadata": {},
     "output_type": "execute_result"
    }
   ],
   "source": [
    "cars_list.sort()\n",
    "\n",
    "cars_list"
   ]
  },
  {
   "cell_type": "markdown",
   "id": "e2694159",
   "metadata": {},
   "source": [
    "# 3. Reverse method is used to reverse the current order of lists."
   ]
  },
  {
   "cell_type": "code",
   "execution_count": 4,
   "id": "1cb30855",
   "metadata": {},
   "outputs": [
    {
     "data": {
      "text/plain": [
       "['Toyota Fortuner',\n",
       " 'Toyota Corolla',\n",
       " 'Maruti Brezza',\n",
       " 'Mahindra Thar',\n",
       " 'Kia Sonet',\n",
       " 'Hyundai Venue']"
      ]
     },
     "execution_count": 4,
     "metadata": {},
     "output_type": "execute_result"
    }
   ],
   "source": [
    "cars_list.reverse()\n",
    "\n",
    "cars_list"
   ]
  },
  {
   "cell_type": "markdown",
   "id": "ff80eb37",
   "metadata": {},
   "source": [
    "# 4. Pop operation removes the last element in the list"
   ]
  },
  {
   "cell_type": "code",
   "execution_count": 5,
   "id": "768b6239",
   "metadata": {},
   "outputs": [
    {
     "data": {
      "text/plain": [
       "['Toyota Fortuner',\n",
       " 'Toyota Corolla',\n",
       " 'Maruti Brezza',\n",
       " 'Mahindra Thar',\n",
       " 'Kia Sonet']"
      ]
     },
     "execution_count": 5,
     "metadata": {},
     "output_type": "execute_result"
    }
   ],
   "source": [
    "cars_list.pop()\n",
    "\n",
    "cars_list"
   ]
  },
  {
   "cell_type": "code",
   "execution_count": 6,
   "id": "e0a6b1f3",
   "metadata": {},
   "outputs": [
    {
     "data": {
      "text/plain": [
       "['Toyota Fortuner', 'Toyota Corolla', 'Maruti Brezza', 'Mahindra Thar']"
      ]
     },
     "execution_count": 6,
     "metadata": {},
     "output_type": "execute_result"
    }
   ],
   "source": [
    "cars_list.pop() #again the current last element will be removed\n",
    "\n",
    "cars_list"
   ]
  },
  {
   "cell_type": "code",
   "execution_count": 7,
   "id": "b0fa124c",
   "metadata": {},
   "outputs": [
    {
     "data": {
      "text/plain": [
       "['Toyota Fortuner',\n",
       " 'Toyota Corolla',\n",
       " 'Maruti Brezza',\n",
       " 'Mahindra Thar',\n",
       " 'Toyota Fortuner']"
      ]
     },
     "execution_count": 7,
     "metadata": {},
     "output_type": "execute_result"
    }
   ],
   "source": [
    "cars_list.append('Toyota Fortuner') \n",
    "\n",
    "cars_list #list can contain duplicate items"
   ]
  },
  {
   "cell_type": "code",
   "execution_count": 8,
   "id": "dbe9f673",
   "metadata": {},
   "outputs": [
    {
     "data": {
      "text/plain": [
       "['Toyota Fortuner',\n",
       " 'Toyota Corolla',\n",
       " 'Maruti Brezza',\n",
       " 'Mahindra Thar',\n",
       " 'Toyota Fortuner',\n",
       " 'Toyota Fortuner']"
      ]
     },
     "execution_count": 8,
     "metadata": {},
     "output_type": "execute_result"
    }
   ],
   "source": [
    "cars_list.append('Toyota Fortuner') \n",
    "\n",
    "cars_list #list can contain duplicate items"
   ]
  },
  {
   "cell_type": "code",
   "execution_count": 9,
   "id": "a7f2b5fe",
   "metadata": {},
   "outputs": [
    {
     "data": {
      "text/plain": [
       "3"
      ]
     },
     "execution_count": 9,
     "metadata": {},
     "output_type": "execute_result"
    }
   ],
   "source": [
    "cars_list.count('Toyota Fortuner') "
   ]
  },
  {
   "cell_type": "code",
   "execution_count": 11,
   "id": "3ce4832f",
   "metadata": {},
   "outputs": [
    {
     "data": {
      "text/plain": [
       "0"
      ]
     },
     "execution_count": 11,
     "metadata": {},
     "output_type": "execute_result"
    }
   ],
   "source": [
    "cars_list.count('toyota Fortuner') #t is in lower case"
   ]
  },
  {
   "cell_type": "code",
   "execution_count": 12,
   "id": "8a87e4be",
   "metadata": {},
   "outputs": [
    {
     "data": {
      "text/plain": [
       "1"
      ]
     },
     "execution_count": 12,
     "metadata": {},
     "output_type": "execute_result"
    }
   ],
   "source": [
    "cars_list.count('Toyota Corolla') "
   ]
  },
  {
   "cell_type": "markdown",
   "id": "7a1e3b03",
   "metadata": {},
   "source": [
    "# 5. set function to convert a list to a set"
   ]
  },
  {
   "cell_type": "code",
   "execution_count": 14,
   "id": "d63c24d4",
   "metadata": {},
   "outputs": [
    {
     "data": {
      "text/plain": [
       "{'Mahindra Thar', 'Maruti Brezza', 'Toyota Corolla', 'Toyota Fortuner'}"
      ]
     },
     "execution_count": 14,
     "metadata": {},
     "output_type": "execute_result"
    }
   ],
   "source": [
    "set(cars_list) #Duplicate entries get removed"
   ]
  },
  {
   "cell_type": "code",
   "execution_count": 15,
   "id": "cc04bac2",
   "metadata": {},
   "outputs": [
    {
     "name": "stdout",
     "output_type": "stream",
     "text": [
      "['Toyota Fortuner', 'Toyota Corolla', 'Maruti Brezza', 'Mahindra Thar', 'Toyota Fortuner', 'Toyota Fortuner']\n"
     ]
    }
   ],
   "source": [
    "print(cars_list)"
   ]
  },
  {
   "cell_type": "markdown",
   "id": "7a84d5b6",
   "metadata": {},
   "source": [
    "# 6. Clear function to remove every element from the list"
   ]
  },
  {
   "cell_type": "code",
   "execution_count": 17,
   "id": "ce6d1ba0",
   "metadata": {},
   "outputs": [
    {
     "data": {
      "text/plain": [
       "[]"
      ]
     },
     "execution_count": 17,
     "metadata": {},
     "output_type": "execute_result"
    }
   ],
   "source": [
    "cars_list.clear()\n",
    "\n",
    "cars_list"
   ]
  },
  {
   "cell_type": "code",
   "execution_count": null,
   "id": "ad8af6f7",
   "metadata": {},
   "outputs": [],
   "source": []
  }
 ],
 "metadata": {
  "kernelspec": {
   "display_name": "Python 3 (ipykernel)",
   "language": "python",
   "name": "python3"
  },
  "language_info": {
   "codemirror_mode": {
    "name": "ipython",
    "version": 3
   },
   "file_extension": ".py",
   "mimetype": "text/x-python",
   "name": "python",
   "nbconvert_exporter": "python",
   "pygments_lexer": "ipython3",
   "version": "3.9.12"
  }
 },
 "nbformat": 4,
 "nbformat_minor": 5
}
