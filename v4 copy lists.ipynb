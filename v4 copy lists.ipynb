{
 "cells": [
  {
   "cell_type": "code",
   "execution_count": 1,
   "id": "6fb48819",
   "metadata": {},
   "outputs": [],
   "source": [
    "import copy"
   ]
  },
  {
   "cell_type": "code",
   "execution_count": 2,
   "id": "abe13e80",
   "metadata": {},
   "outputs": [
    {
     "data": {
      "text/plain": [
       "['Mahindra Thar', 'Maruti Brezza', 'Hyundai Venue', 'Kia Sonet']"
      ]
     },
     "execution_count": 2,
     "metadata": {},
     "output_type": "execute_result"
    }
   ],
   "source": [
    "cars_list = ['Mahindra Thar','Maruti Brezza','Hyundai Venue','Kia Sonet']\n",
    "\n",
    "cars_list"
   ]
  },
  {
   "cell_type": "markdown",
   "id": "9c991998",
   "metadata": {},
   "source": [
    "# 1. Deep copy creates a new copy in memory of a list and all its contents\n",
    "\n",
    "#### Any changes that you make to the original list does not affect the copy of the lists"
   ]
  },
  {
   "cell_type": "code",
   "execution_count": 3,
   "id": "04c469e1",
   "metadata": {},
   "outputs": [],
   "source": [
    "new_cars_list = copy.deepcopy(cars_list)"
   ]
  },
  {
   "cell_type": "code",
   "execution_count": 4,
   "id": "a3f2622b",
   "metadata": {},
   "outputs": [],
   "source": [
    "del cars_list"
   ]
  },
  {
   "cell_type": "code",
   "execution_count": 5,
   "id": "58481d98",
   "metadata": {},
   "outputs": [
    {
     "data": {
      "text/plain": [
       "['Mahindra Thar', 'Maruti Brezza', 'Hyundai Venue', 'Kia Sonet']"
      ]
     },
     "execution_count": 5,
     "metadata": {},
     "output_type": "execute_result"
    }
   ],
   "source": [
    "new_cars_list"
   ]
  },
  {
   "cell_type": "code",
   "execution_count": 6,
   "id": "fa3d4f94",
   "metadata": {},
   "outputs": [
    {
     "ename": "NameError",
     "evalue": "name 'cars_list' is not defined",
     "output_type": "error",
     "traceback": [
      "\u001b[1;31m---------------------------------------------------------------------------\u001b[0m",
      "\u001b[1;31mNameError\u001b[0m                                 Traceback (most recent call last)",
      "Input \u001b[1;32mIn [6]\u001b[0m, in \u001b[0;36m<cell line: 1>\u001b[1;34m()\u001b[0m\n\u001b[1;32m----> 1\u001b[0m \u001b[43mcars_list\u001b[49m\n",
      "\u001b[1;31mNameError\u001b[0m: name 'cars_list' is not defined"
     ]
    }
   ],
   "source": [
    "cars_list"
   ]
  },
  {
   "cell_type": "markdown",
   "id": "379238a0",
   "metadata": {},
   "source": [
    "# 2. Shallow copy of lists - Both variables refer to the same list copy"
   ]
  },
  {
   "cell_type": "code",
   "execution_count": 7,
   "id": "c22a8be4",
   "metadata": {},
   "outputs": [
    {
     "data": {
      "text/plain": [
       "['Mahindra Thar', 'Maruti Brezza', 'Hyundai Venue', 'Kia Sonet']"
      ]
     },
     "execution_count": 7,
     "metadata": {},
     "output_type": "execute_result"
    }
   ],
   "source": [
    "another_cars_list = new_cars_list\n",
    "another_cars_list"
   ]
  },
  {
   "cell_type": "markdown",
   "id": "0be21cac",
   "metadata": {},
   "source": [
    "# 3. shallow copy using copy.copy\n",
    "#### Creates a new list but does not create copies of the list contents"
   ]
  },
  {
   "cell_type": "code",
   "execution_count": 8,
   "id": "e344ae04",
   "metadata": {},
   "outputs": [
    {
     "data": {
      "text/plain": [
       "['Mahindra Thar', 'Maruti Brezza', 'Hyundai Venue', 'Kia Sonet']"
      ]
     },
     "execution_count": 8,
     "metadata": {},
     "output_type": "execute_result"
    }
   ],
   "source": [
    "one_more_cars_list = copy.copy(new_cars_list)\n",
    "one_more_cars_list"
   ]
  },
  {
   "cell_type": "code",
   "execution_count": 9,
   "id": "025a0e75",
   "metadata": {},
   "outputs": [],
   "source": [
    "another_cars_list.remove('Maruti Brezza')"
   ]
  },
  {
   "cell_type": "code",
   "execution_count": 10,
   "id": "57cef3eb",
   "metadata": {},
   "outputs": [
    {
     "data": {
      "text/plain": [
       "['Mahindra Thar', 'Hyundai Venue', 'Kia Sonet']"
      ]
     },
     "execution_count": 10,
     "metadata": {},
     "output_type": "execute_result"
    }
   ],
   "source": [
    "another_cars_list"
   ]
  },
  {
   "cell_type": "code",
   "execution_count": 11,
   "id": "e0d0495c",
   "metadata": {},
   "outputs": [
    {
     "data": {
      "text/plain": [
       "['Mahindra Thar', 'Hyundai Venue', 'Kia Sonet']"
      ]
     },
     "execution_count": 11,
     "metadata": {},
     "output_type": "execute_result"
    }
   ],
   "source": [
    "new_cars_list"
   ]
  },
  {
   "cell_type": "code",
   "execution_count": 12,
   "id": "669fb7b4",
   "metadata": {},
   "outputs": [],
   "source": [
    "new_cars_list.remove('Hyundai Venue')"
   ]
  },
  {
   "cell_type": "code",
   "execution_count": 13,
   "id": "9ea5d128",
   "metadata": {},
   "outputs": [
    {
     "data": {
      "text/plain": [
       "['Mahindra Thar', 'Kia Sonet']"
      ]
     },
     "execution_count": 13,
     "metadata": {},
     "output_type": "execute_result"
    }
   ],
   "source": [
    "another_cars_list"
   ]
  },
  {
   "cell_type": "code",
   "execution_count": null,
   "id": "7418ba73",
   "metadata": {},
   "outputs": [],
   "source": []
  }
 ],
 "metadata": {
  "kernelspec": {
   "display_name": "Python 3 (ipykernel)",
   "language": "python",
   "name": "python3"
  },
  "language_info": {
   "codemirror_mode": {
    "name": "ipython",
    "version": 3
   },
   "file_extension": ".py",
   "mimetype": "text/x-python",
   "name": "python",
   "nbconvert_exporter": "python",
   "pygments_lexer": "ipython3",
   "version": "3.9.12"
  }
 },
 "nbformat": 4,
 "nbformat_minor": 5
}
