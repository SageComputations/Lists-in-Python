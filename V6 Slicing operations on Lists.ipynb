{
 "cells": [
  {
   "cell_type": "code",
   "execution_count": 2,
   "id": "b2609c48",
   "metadata": {},
   "outputs": [
    {
     "data": {
      "text/plain": [
       "['Maruti 800',\n",
       " 'Toyota Fortuner',\n",
       " 'Lamborghini Gallardo',\n",
       " 'Ferrari',\n",
       " 'Aston Martin',\n",
       " 'Porsche Carrera']"
      ]
     },
     "execution_count": 2,
     "metadata": {},
     "output_type": "execute_result"
    }
   ],
   "source": [
    "my_car_list = ['Maruti 800','Toyota Fortuner','Lamborghini Gallardo','Ferrari','Aston Martin','Porsche Carrera']\n",
    "my_car_list"
   ]
  },
  {
   "cell_type": "code",
   "execution_count": 3,
   "id": "c071f0df",
   "metadata": {},
   "outputs": [
    {
     "data": {
      "text/plain": [
       "6"
      ]
     },
     "execution_count": 3,
     "metadata": {},
     "output_type": "execute_result"
    }
   ],
   "source": [
    "len(my_car_list)"
   ]
  },
  {
   "cell_type": "code",
   "execution_count": 6,
   "id": "c5756fc9",
   "metadata": {},
   "outputs": [
    {
     "data": {
      "text/plain": [
       "'Aston Martin'"
      ]
     },
     "execution_count": 6,
     "metadata": {},
     "output_type": "execute_result"
    }
   ],
   "source": [
    "my_car_list[4]"
   ]
  },
  {
   "cell_type": "code",
   "execution_count": 7,
   "id": "29feff8c",
   "metadata": {},
   "outputs": [
    {
     "data": {
      "text/plain": [
       "'Porsche Carrera'"
      ]
     },
     "execution_count": 7,
     "metadata": {},
     "output_type": "execute_result"
    }
   ],
   "source": [
    "my_car_list[5]"
   ]
  },
  {
   "cell_type": "code",
   "execution_count": 8,
   "id": "178891f2",
   "metadata": {},
   "outputs": [
    {
     "data": {
      "text/plain": [
       "'Aston Martin'"
      ]
     },
     "execution_count": 8,
     "metadata": {},
     "output_type": "execute_result"
    }
   ],
   "source": [
    "my_car_list[-2]"
   ]
  },
  {
   "cell_type": "code",
   "execution_count": 9,
   "id": "a33022f6",
   "metadata": {},
   "outputs": [
    {
     "data": {
      "text/plain": [
       "'Lamborghini Gallardo'"
      ]
     },
     "execution_count": 9,
     "metadata": {},
     "output_type": "execute_result"
    }
   ],
   "source": [
    "my_car_list[-4]"
   ]
  },
  {
   "cell_type": "markdown",
   "id": "6ea3201b",
   "metadata": {},
   "source": [
    "# Slicing - Accessing a range of elements in a list\n",
    "\n",
    "## List_name[start_index:end_index]\n",
    "### start_index is inclusive, end_index is exclusive"
   ]
  },
  {
   "cell_type": "code",
   "execution_count": 10,
   "id": "039d9f5b",
   "metadata": {},
   "outputs": [
    {
     "data": {
      "text/plain": [
       "['Maruti 800', 'Toyota Fortuner', 'Lamborghini Gallardo', 'Ferrari']"
      ]
     },
     "execution_count": 10,
     "metadata": {},
     "output_type": "execute_result"
    }
   ],
   "source": [
    "my_car_list[0:4]"
   ]
  },
  {
   "cell_type": "code",
   "execution_count": 11,
   "id": "6146b035",
   "metadata": {},
   "outputs": [
    {
     "data": {
      "text/plain": [
       "['Maruti 800', 'Toyota Fortuner']"
      ]
     },
     "execution_count": 11,
     "metadata": {},
     "output_type": "execute_result"
    }
   ],
   "source": [
    "my_car_list[0:2]"
   ]
  },
  {
   "cell_type": "code",
   "execution_count": 13,
   "id": "d7753dc8",
   "metadata": {},
   "outputs": [
    {
     "data": {
      "text/plain": [
       "['Maruti 800',\n",
       " 'Toyota Fortuner',\n",
       " 'Lamborghini Gallardo',\n",
       " 'Ferrari',\n",
       " 'Aston Martin',\n",
       " 'Porsche Carrera']"
      ]
     },
     "execution_count": 13,
     "metadata": {},
     "output_type": "execute_result"
    }
   ],
   "source": [
    "my_car_list[0:6] #For getting all the elments start index is 0 and end_index is length of the list"
   ]
  },
  {
   "cell_type": "markdown",
   "id": "bd85c349",
   "metadata": {},
   "source": [
    "# List slicing creates a deep copy, if we store it with a new list it creates a new list with the range specified"
   ]
  },
  {
   "cell_type": "code",
   "execution_count": 15,
   "id": "c01ed9f9",
   "metadata": {},
   "outputs": [
    {
     "data": {
      "text/plain": [
       "['Maruti 800',\n",
       " 'Toyota Fortuner',\n",
       " 'Lamborghini Gallardo',\n",
       " 'Ferrari',\n",
       " 'Aston Martin',\n",
       " 'Porsche Carrera']"
      ]
     },
     "execution_count": 15,
     "metadata": {},
     "output_type": "execute_result"
    }
   ],
   "source": [
    "my_car_list[0:7] #End index beyond the number of elemnets we have "
   ]
  },
  {
   "cell_type": "code",
   "execution_count": 17,
   "id": "64fc4dca",
   "metadata": {},
   "outputs": [
    {
     "data": {
      "text/plain": [
       "[]"
      ]
     },
     "execution_count": 17,
     "metadata": {},
     "output_type": "execute_result"
    }
   ],
   "source": [
    "my_car_list[7:] #start index beyond the length will give an empty list"
   ]
  },
  {
   "cell_type": "code",
   "execution_count": 18,
   "id": "1e880840",
   "metadata": {},
   "outputs": [
    {
     "data": {
      "text/plain": [
       "['Porsche Carrera']"
      ]
     },
     "execution_count": 18,
     "metadata": {},
     "output_type": "execute_result"
    }
   ],
   "source": [
    "my_car_list[5:6]"
   ]
  },
  {
   "cell_type": "code",
   "execution_count": 19,
   "id": "d50a935a",
   "metadata": {},
   "outputs": [
    {
     "data": {
      "text/plain": [
       "['Ferrari', 'Aston Martin', 'Porsche Carrera']"
      ]
     },
     "execution_count": 19,
     "metadata": {},
     "output_type": "execute_result"
    }
   ],
   "source": [
    "my_car_list[3:6]"
   ]
  },
  {
   "cell_type": "code",
   "execution_count": 20,
   "id": "351b598f",
   "metadata": {},
   "outputs": [
    {
     "data": {
      "text/plain": [
       "['Maruti 800', 'Toyota Fortuner', 'Lamborghini Gallardo']"
      ]
     },
     "execution_count": 20,
     "metadata": {},
     "output_type": "execute_result"
    }
   ],
   "source": [
    "my_car_list[:3] #If we omit the start index it will start at 0"
   ]
  },
  {
   "cell_type": "code",
   "execution_count": 22,
   "id": "42dc3203",
   "metadata": {},
   "outputs": [
    {
     "data": {
      "text/plain": [
       "['Ferrari', 'Aston Martin', 'Porsche Carrera']"
      ]
     },
     "execution_count": 22,
     "metadata": {},
     "output_type": "execute_result"
    }
   ],
   "source": [
    "my_car_list[3:] #If we omit the end index it will go till the end of the list"
   ]
  },
  {
   "cell_type": "code",
   "execution_count": 23,
   "id": "4acccbf9",
   "metadata": {},
   "outputs": [
    {
     "data": {
      "text/plain": [
       "['Maruti 800', 'Toyota Fortuner']"
      ]
     },
     "execution_count": 23,
     "metadata": {},
     "output_type": "execute_result"
    }
   ],
   "source": [
    "my_car_list[0:-4]"
   ]
  },
  {
   "cell_type": "code",
   "execution_count": 24,
   "id": "dc6cdc25",
   "metadata": {},
   "outputs": [
    {
     "data": {
      "text/plain": [
       "['Lamborghini Gallardo', 'Ferrari', 'Aston Martin']"
      ]
     },
     "execution_count": 24,
     "metadata": {},
     "output_type": "execute_result"
    }
   ],
   "source": [
    "my_car_list[-4:-1]"
   ]
  },
  {
   "cell_type": "code",
   "execution_count": 25,
   "id": "5ad54de6",
   "metadata": {},
   "outputs": [
    {
     "data": {
      "text/plain": [
       "[]"
      ]
     },
     "execution_count": 25,
     "metadata": {},
     "output_type": "execute_result"
    }
   ],
   "source": [
    "my_car_list[-2:-4]"
   ]
  },
  {
   "cell_type": "code",
   "execution_count": null,
   "id": "632426b8",
   "metadata": {},
   "outputs": [],
   "source": []
  }
 ],
 "metadata": {
  "kernelspec": {
   "display_name": "Python 3 (ipykernel)",
   "language": "python",
   "name": "python3"
  },
  "language_info": {
   "codemirror_mode": {
    "name": "ipython",
    "version": 3
   },
   "file_extension": ".py",
   "mimetype": "text/x-python",
   "name": "python",
   "nbconvert_exporter": "python",
   "pygments_lexer": "ipython3",
   "version": "3.9.12"
  }
 },
 "nbformat": 4,
 "nbformat_minor": 5
}
