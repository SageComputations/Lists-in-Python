{
 "cells": [
  {
   "cell_type": "markdown",
   "id": "be10c2bd",
   "metadata": {},
   "source": [
    "# List is an ordered collection of elements enclosed within [ ]"
   ]
  },
  {
   "cell_type": "markdown",
   "id": "3a8d9685",
   "metadata": {},
   "source": [
    "## 1.  Lists are mutable - values inside it can be changed as and when we want."
   ]
  },
  {
   "cell_type": "markdown",
   "id": "4a411b48",
   "metadata": {},
   "source": [
    "## 2. Lists can contain duplicate values."
   ]
  },
  {
   "cell_type": "markdown",
   "id": "e3e2fb18",
   "metadata": {},
   "source": [
    "## 3. Order is significant, the elements are accessed in the order they appear."
   ]
  },
  {
   "cell_type": "markdown",
   "id": "5f2c10b8",
   "metadata": {},
   "source": [
    "## 4. List indices start from 0.\n",
    "#### The first element in the list is at index positin 0."
   ]
  },
  {
   "cell_type": "markdown",
   "id": "781daae2",
   "metadata": {},
   "source": [
    "## 5. List indices end at length -1.\n",
    "#### The last element in a list is at index position length -1."
   ]
  },
  {
   "cell_type": "code",
   "execution_count": 1,
   "id": "45284a0d",
   "metadata": {},
   "outputs": [],
   "source": [
    "empty_list = []"
   ]
  },
  {
   "cell_type": "code",
   "execution_count": 2,
   "id": "46ee8992",
   "metadata": {},
   "outputs": [
    {
     "data": {
      "text/plain": [
       "[]"
      ]
     },
     "execution_count": 2,
     "metadata": {},
     "output_type": "execute_result"
    }
   ],
   "source": [
    "empty_list"
   ]
  },
  {
   "cell_type": "code",
   "execution_count": 2,
   "id": "9a217e3a",
   "metadata": {},
   "outputs": [
    {
     "data": {
      "text/plain": [
       "list"
      ]
     },
     "execution_count": 2,
     "metadata": {},
     "output_type": "execute_result"
    }
   ],
   "source": [
    "type(empty_list)"
   ]
  },
  {
   "cell_type": "code",
   "execution_count": 5,
   "id": "e40d4354",
   "metadata": {},
   "outputs": [
    {
     "data": {
      "text/plain": [
       "['Mahindra Thar', 'Maruti Brezza', 'Hyundai Venue', 'Kia Sonet']"
      ]
     },
     "execution_count": 5,
     "metadata": {},
     "output_type": "execute_result"
    }
   ],
   "source": [
    "list_str = ['Mahindra Thar','Maruti Brezza','Hyundai Venue','Kia Sonet']\n",
    "\n",
    "list_str"
   ]
  },
  {
   "cell_type": "code",
   "execution_count": 6,
   "id": "f4176706",
   "metadata": {},
   "outputs": [
    {
     "data": {
      "text/plain": [
       "list"
      ]
     },
     "execution_count": 6,
     "metadata": {},
     "output_type": "execute_result"
    }
   ],
   "source": [
    "type(list_str)"
   ]
  },
  {
   "cell_type": "code",
   "execution_count": 7,
   "id": "44969af0",
   "metadata": {},
   "outputs": [
    {
     "data": {
      "text/plain": [
       "[4, 6, 8, 23, 56, 78]"
      ]
     },
     "execution_count": 7,
     "metadata": {},
     "output_type": "execute_result"
    }
   ],
   "source": [
    "list_int = [4,6,8,23,56,78]\n",
    "\n",
    "list_int"
   ]
  },
  {
   "cell_type": "code",
   "execution_count": 8,
   "id": "bc4739f0",
   "metadata": {},
   "outputs": [
    {
     "data": {
      "text/plain": [
       "[1.5, 3.5, 6.7, 1.2, 8.9]"
      ]
     },
     "execution_count": 8,
     "metadata": {},
     "output_type": "execute_result"
    }
   ],
   "source": [
    "list_float = [1.5,3.5,6.7,1.2,8.9]\n",
    "\n",
    "list_float"
   ]
  },
  {
   "cell_type": "code",
   "execution_count": 9,
   "id": "93620581",
   "metadata": {},
   "outputs": [
    {
     "data": {
      "text/plain": [
       "[True, False]"
      ]
     },
     "execution_count": 9,
     "metadata": {},
     "output_type": "execute_result"
    }
   ],
   "source": [
    "list_bool = [True,False]\n",
    "\n",
    "list_bool"
   ]
  },
  {
   "cell_type": "code",
   "execution_count": 10,
   "id": "6139ca4e",
   "metadata": {},
   "outputs": [
    {
     "data": {
      "text/plain": [
       "['Honda City', 1, 2.5, True]"
      ]
     },
     "execution_count": 10,
     "metadata": {},
     "output_type": "execute_result"
    }
   ],
   "source": [
    "mixed_list = ['Honda City',1,2.5,True]\n",
    "\n",
    "mixed_list"
   ]
  },
  {
   "cell_type": "code",
   "execution_count": 3,
   "id": "34c60278",
   "metadata": {},
   "outputs": [
    {
     "name": "stdout",
     "output_type": "stream",
     "text": [
      "Mahindra Thar\n"
     ]
    }
   ],
   "source": [
    "cars_list = ['Mahindra Thar','Maruti Brezza','Hyundai Venue','Kia Sonet']\n",
    "\n",
    "print(cars_list[0])  #List indices start from 0"
   ]
  },
  {
   "cell_type": "code",
   "execution_count": 4,
   "id": "af9b63e7",
   "metadata": {},
   "outputs": [
    {
     "name": "stdout",
     "output_type": "stream",
     "text": [
      "Maruti Brezza\n",
      "Hyundai Venue\n",
      "Kia Sonet\n"
     ]
    }
   ],
   "source": [
    "print(cars_list[1])\n",
    "\n",
    "print(cars_list[2])\n",
    "\n",
    "print(cars_list[3]) #List indices end at length -1"
   ]
  },
  {
   "cell_type": "code",
   "execution_count": 5,
   "id": "78627150",
   "metadata": {},
   "outputs": [
    {
     "name": "stdout",
     "output_type": "stream",
     "text": [
      "Kia Sonet\n"
     ]
    }
   ],
   "source": [
    "print(cars_list[-1])"
   ]
  },
  {
   "cell_type": "code",
   "execution_count": 14,
   "id": "8a5af01a",
   "metadata": {},
   "outputs": [
    {
     "ename": "IndexError",
     "evalue": "list index out of range",
     "output_type": "error",
     "traceback": [
      "\u001b[1;31m---------------------------------------------------------------------------\u001b[0m",
      "\u001b[1;31mIndexError\u001b[0m                                Traceback (most recent call last)",
      "Input \u001b[1;32mIn [14]\u001b[0m, in \u001b[0;36m<cell line: 1>\u001b[1;34m()\u001b[0m\n\u001b[1;32m----> 1\u001b[0m \u001b[38;5;28mprint\u001b[39m(\u001b[43mcars_list\u001b[49m\u001b[43m[\u001b[49m\u001b[38;5;241;43m4\u001b[39;49m\u001b[43m]\u001b[49m)\n",
      "\u001b[1;31mIndexError\u001b[0m: list index out of range"
     ]
    }
   ],
   "source": [
    "print(cars_list[4])"
   ]
  },
  {
   "cell_type": "code",
   "execution_count": 16,
   "id": "2b56eb7c",
   "metadata": {},
   "outputs": [
    {
     "data": {
      "text/plain": [
       "4"
      ]
     },
     "execution_count": 16,
     "metadata": {},
     "output_type": "execute_result"
    }
   ],
   "source": [
    "len(cars_list)"
   ]
  },
  {
   "cell_type": "code",
   "execution_count": 18,
   "id": "09be56d5",
   "metadata": {},
   "outputs": [
    {
     "name": "stdout",
     "output_type": "stream",
     "text": [
      "car at index 2:  Hyundai Venue\n"
     ]
    }
   ],
   "source": [
    "print('car at index 2: ', cars_list[2])"
   ]
  },
  {
   "cell_type": "code",
   "execution_count": 19,
   "id": "1481d6aa",
   "metadata": {},
   "outputs": [
    {
     "name": "stdout",
     "output_type": "stream",
     "text": [
      "Kia Sonet\n"
     ]
    }
   ],
   "source": [
    "print(cars_list[3])"
   ]
  },
  {
   "cell_type": "code",
   "execution_count": 20,
   "id": "d1a3f538",
   "metadata": {},
   "outputs": [
    {
     "ename": "TypeError",
     "evalue": "list indices must be integers or slices, not tuple",
     "output_type": "error",
     "traceback": [
      "\u001b[1;31m---------------------------------------------------------------------------\u001b[0m",
      "\u001b[1;31mTypeError\u001b[0m                                 Traceback (most recent call last)",
      "Input \u001b[1;32mIn [20]\u001b[0m, in \u001b[0;36m<cell line: 1>\u001b[1;34m()\u001b[0m\n\u001b[1;32m----> 1\u001b[0m \u001b[38;5;28mprint\u001b[39m(\u001b[43mcars_list\u001b[49m\u001b[43m[\u001b[49m\u001b[38;5;241;43m1\u001b[39;49m\u001b[43m,\u001b[49m\u001b[38;5;241;43m2\u001b[39;49m\u001b[43m]\u001b[49m)\n",
      "\u001b[1;31mTypeError\u001b[0m: list indices must be integers or slices, not tuple"
     ]
    }
   ],
   "source": [
    "print(cars_list[1,2])"
   ]
  },
  {
   "cell_type": "code",
   "execution_count": 21,
   "id": "8b09abc7",
   "metadata": {},
   "outputs": [
    {
     "data": {
      "text/plain": [
       "['Mahindra Thar', 'Maruti Brezza', 'Hyundai Venue', 'Kia Sonet']"
      ]
     },
     "execution_count": 21,
     "metadata": {},
     "output_type": "execute_result"
    }
   ],
   "source": [
    "cars_list"
   ]
  },
  {
   "cell_type": "code",
   "execution_count": 22,
   "id": "d0cc34e3",
   "metadata": {},
   "outputs": [
    {
     "name": "stdout",
     "output_type": "stream",
     "text": [
      "Kia Sonet\n"
     ]
    }
   ],
   "source": [
    "print(cars_list[-1])"
   ]
  },
  {
   "cell_type": "code",
   "execution_count": 23,
   "id": "f4f4864e",
   "metadata": {},
   "outputs": [
    {
     "name": "stdout",
     "output_type": "stream",
     "text": [
      "Hyundai Venue\n",
      "Maruti Brezza\n",
      "Mahindra Thar\n"
     ]
    }
   ],
   "source": [
    "print(cars_list[-2])\n",
    "\n",
    "print(cars_list[-3])\n",
    "\n",
    "print(cars_list[-4])"
   ]
  },
  {
   "cell_type": "code",
   "execution_count": 24,
   "id": "697e7158",
   "metadata": {},
   "outputs": [
    {
     "ename": "IndexError",
     "evalue": "list index out of range",
     "output_type": "error",
     "traceback": [
      "\u001b[1;31m---------------------------------------------------------------------------\u001b[0m",
      "\u001b[1;31mIndexError\u001b[0m                                Traceback (most recent call last)",
      "Input \u001b[1;32mIn [24]\u001b[0m, in \u001b[0;36m<cell line: 1>\u001b[1;34m()\u001b[0m\n\u001b[1;32m----> 1\u001b[0m \u001b[38;5;28mprint\u001b[39m(\u001b[43mcars_list\u001b[49m\u001b[43m[\u001b[49m\u001b[38;5;241;43m-\u001b[39;49m\u001b[38;5;241;43m5\u001b[39;49m\u001b[43m]\u001b[49m)\n",
      "\u001b[1;31mIndexError\u001b[0m: list index out of range"
     ]
    }
   ],
   "source": [
    "print(cars_list[-5])"
   ]
  },
  {
   "cell_type": "code",
   "execution_count": 25,
   "id": "4479ba02",
   "metadata": {},
   "outputs": [
    {
     "data": {
      "text/plain": [
       "'Hyundai Venue'"
      ]
     },
     "execution_count": 25,
     "metadata": {},
     "output_type": "execute_result"
    }
   ],
   "source": [
    "cars_list[-2]"
   ]
  },
  {
   "cell_type": "code",
   "execution_count": 27,
   "id": "597e4fbd",
   "metadata": {},
   "outputs": [
    {
     "name": "stdout",
     "output_type": "stream",
     "text": [
      "New car at index 3 is:  Maruti Swift\n"
     ]
    },
    {
     "data": {
      "text/plain": [
       "['Mahindra Thar', 'Maruti Brezza', 'Hyundai Venue', 'Maruti Swift']"
      ]
     },
     "execution_count": 27,
     "metadata": {},
     "output_type": "execute_result"
    }
   ],
   "source": [
    "cars_list[3] = 'Maruti Swift'\n",
    "\n",
    "print('New car at index 3 is: ',cars_list[3])\n",
    "\n",
    "cars_list"
   ]
  },
  {
   "cell_type": "code",
   "execution_count": 28,
   "id": "44592924",
   "metadata": {},
   "outputs": [],
   "source": [
    "cars_list[2] = 'Tata Nano'"
   ]
  },
  {
   "cell_type": "code",
   "execution_count": 29,
   "id": "90aad621",
   "metadata": {},
   "outputs": [
    {
     "data": {
      "text/plain": [
       "['Mahindra Thar', 'Maruti Brezza', 'Tata Nano', 'Maruti Swift']"
      ]
     },
     "execution_count": 29,
     "metadata": {},
     "output_type": "execute_result"
    }
   ],
   "source": [
    "cars_list"
   ]
  },
  {
   "cell_type": "code",
   "execution_count": null,
   "id": "3ca2af1f",
   "metadata": {},
   "outputs": [],
   "source": []
  }
 ],
 "metadata": {
  "kernelspec": {
   "display_name": "Python 3 (ipykernel)",
   "language": "python",
   "name": "python3"
  },
  "language_info": {
   "codemirror_mode": {
    "name": "ipython",
    "version": 3
   },
   "file_extension": ".py",
   "mimetype": "text/x-python",
   "name": "python",
   "nbconvert_exporter": "python",
   "pygments_lexer": "ipython3",
   "version": "3.9.12"
  }
 },
 "nbformat": 4,
 "nbformat_minor": 5
}
