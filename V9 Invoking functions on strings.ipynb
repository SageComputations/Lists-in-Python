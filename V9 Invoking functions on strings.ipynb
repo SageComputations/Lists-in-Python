{
 "cells": [
  {
   "cell_type": "code",
   "execution_count": 1,
   "id": "913cc875",
   "metadata": {},
   "outputs": [],
   "source": [
    "place = \"Chicago\""
   ]
  },
  {
   "cell_type": "code",
   "execution_count": 2,
   "id": "1d6351a9",
   "metadata": {},
   "outputs": [
    {
     "data": {
      "text/plain": [
       "'Chicago'"
      ]
     },
     "execution_count": 2,
     "metadata": {},
     "output_type": "execute_result"
    }
   ],
   "source": [
    "place"
   ]
  },
  {
   "cell_type": "markdown",
   "id": "00a72643",
   "metadata": {},
   "source": [
    "# 1. startswith"
   ]
  },
  {
   "cell_type": "code",
   "execution_count": 3,
   "id": "0d1a182b",
   "metadata": {},
   "outputs": [
    {
     "name": "stdout",
     "output_type": "stream",
     "text": [
      "True\n"
     ]
    }
   ],
   "source": [
    "print(place.startswith('C'))"
   ]
  },
  {
   "cell_type": "code",
   "execution_count": 4,
   "id": "d24dae18",
   "metadata": {},
   "outputs": [
    {
     "name": "stdout",
     "output_type": "stream",
     "text": [
      "False\n"
     ]
    }
   ],
   "source": [
    "print(place.startswith('c'))"
   ]
  },
  {
   "cell_type": "markdown",
   "id": "0fc7efda",
   "metadata": {},
   "source": [
    "# 2. endswith"
   ]
  },
  {
   "cell_type": "code",
   "execution_count": 5,
   "id": "2b0ac671",
   "metadata": {},
   "outputs": [
    {
     "name": "stdout",
     "output_type": "stream",
     "text": [
      "True\n"
     ]
    }
   ],
   "source": [
    "print(place.endswith('o'))"
   ]
  },
  {
   "cell_type": "code",
   "execution_count": 6,
   "id": "22d52828",
   "metadata": {},
   "outputs": [
    {
     "name": "stdout",
     "output_type": "stream",
     "text": [
      "False\n"
     ]
    }
   ],
   "source": [
    "print(place.endswith('O'))"
   ]
  },
  {
   "cell_type": "code",
   "execution_count": 7,
   "id": "a73cd811",
   "metadata": {},
   "outputs": [
    {
     "name": "stdout",
     "output_type": "stream",
     "text": [
      "True\n"
     ]
    }
   ],
   "source": [
    "print(place.endswith('cago'))"
   ]
  },
  {
   "cell_type": "markdown",
   "id": "606847c7",
   "metadata": {},
   "source": [
    "# 3. Count"
   ]
  },
  {
   "cell_type": "code",
   "execution_count": 13,
   "id": "95a09b6c",
   "metadata": {},
   "outputs": [
    {
     "data": {
      "text/plain": [
       "1"
      ]
     },
     "execution_count": 13,
     "metadata": {},
     "output_type": "execute_result"
    }
   ],
   "source": [
    "place.count('C')"
   ]
  },
  {
   "cell_type": "markdown",
   "id": "a9d6583c",
   "metadata": {},
   "source": [
    "# 4. lower()"
   ]
  },
  {
   "cell_type": "code",
   "execution_count": 10,
   "id": "58665694",
   "metadata": {},
   "outputs": [
    {
     "data": {
      "text/plain": [
       "'chicago'"
      ]
     },
     "execution_count": 10,
     "metadata": {},
     "output_type": "execute_result"
    }
   ],
   "source": [
    "lower_place = place.lower()\n",
    "\n",
    "lower_place"
   ]
  },
  {
   "cell_type": "markdown",
   "id": "93f2c6e0",
   "metadata": {},
   "source": [
    "# 5. upper()"
   ]
  },
  {
   "cell_type": "code",
   "execution_count": 11,
   "id": "727a55f1",
   "metadata": {},
   "outputs": [
    {
     "data": {
      "text/plain": [
       "'CHICAGO'"
      ]
     },
     "execution_count": 11,
     "metadata": {},
     "output_type": "execute_result"
    }
   ],
   "source": [
    "upper_place = place.upper()\n",
    "\n",
    "upper_place"
   ]
  },
  {
   "cell_type": "code",
   "execution_count": 15,
   "id": "dce084ff",
   "metadata": {},
   "outputs": [
    {
     "data": {
      "text/plain": [
       "2"
      ]
     },
     "execution_count": 15,
     "metadata": {},
     "output_type": "execute_result"
    }
   ],
   "source": [
    "upper_place.count('C')"
   ]
  },
  {
   "cell_type": "markdown",
   "id": "1d07a446",
   "metadata": {},
   "source": [
    "# 6.  '==' conditional operator checks for equality ; different from '=' assignment operator"
   ]
  },
  {
   "cell_type": "code",
   "execution_count": 16,
   "id": "5b47e7a0",
   "metadata": {},
   "outputs": [
    {
     "data": {
      "text/plain": [
       "False"
      ]
     },
     "execution_count": 16,
     "metadata": {},
     "output_type": "execute_result"
    }
   ],
   "source": [
    "lower_place == upper_place"
   ]
  },
  {
   "cell_type": "code",
   "execution_count": 17,
   "id": "199d696e",
   "metadata": {},
   "outputs": [
    {
     "data": {
      "text/plain": [
       "False"
      ]
     },
     "execution_count": 17,
     "metadata": {},
     "output_type": "execute_result"
    }
   ],
   "source": [
    "place == upper_place"
   ]
  },
  {
   "cell_type": "markdown",
   "id": "a346ed24",
   "metadata": {},
   "source": [
    "# 7. find"
   ]
  },
  {
   "cell_type": "code",
   "execution_count": 18,
   "id": "83c75134",
   "metadata": {},
   "outputs": [
    {
     "data": {
      "text/plain": [
       "0"
      ]
     },
     "execution_count": 18,
     "metadata": {},
     "output_type": "execute_result"
    }
   ],
   "source": [
    "place.find('C')"
   ]
  },
  {
   "cell_type": "code",
   "execution_count": 20,
   "id": "d02d6a19",
   "metadata": {},
   "outputs": [
    {
     "data": {
      "text/plain": [
       "'Chicago'"
      ]
     },
     "execution_count": 20,
     "metadata": {},
     "output_type": "execute_result"
    }
   ],
   "source": [
    "place"
   ]
  },
  {
   "cell_type": "code",
   "execution_count": 19,
   "id": "d7f99be7",
   "metadata": {},
   "outputs": [
    {
     "data": {
      "text/plain": [
       "3"
      ]
     },
     "execution_count": 19,
     "metadata": {},
     "output_type": "execute_result"
    }
   ],
   "source": [
    "place.find('c')"
   ]
  },
  {
   "cell_type": "markdown",
   "id": "1e37834b",
   "metadata": {},
   "source": [
    "# 8. index"
   ]
  },
  {
   "cell_type": "code",
   "execution_count": 21,
   "id": "25d50b1a",
   "metadata": {},
   "outputs": [
    {
     "data": {
      "text/plain": [
       "2"
      ]
     },
     "execution_count": 21,
     "metadata": {},
     "output_type": "execute_result"
    }
   ],
   "source": [
    "place.index('i')"
   ]
  },
  {
   "cell_type": "code",
   "execution_count": 22,
   "id": "88fb9520",
   "metadata": {},
   "outputs": [
    {
     "ename": "ValueError",
     "evalue": "substring not found",
     "output_type": "error",
     "traceback": [
      "\u001b[1;31m---------------------------------------------------------------------------\u001b[0m",
      "\u001b[1;31mValueError\u001b[0m                                Traceback (most recent call last)",
      "Input \u001b[1;32mIn [22]\u001b[0m, in \u001b[0;36m<cell line: 1>\u001b[1;34m()\u001b[0m\n\u001b[1;32m----> 1\u001b[0m \u001b[43mplace\u001b[49m\u001b[38;5;241;43m.\u001b[39;49m\u001b[43mindex\u001b[49m\u001b[43m(\u001b[49m\u001b[38;5;124;43m'\u001b[39;49m\u001b[38;5;124;43mz\u001b[39;49m\u001b[38;5;124;43m'\u001b[39;49m\u001b[43m)\u001b[49m\n",
      "\u001b[1;31mValueError\u001b[0m: substring not found"
     ]
    }
   ],
   "source": [
    "place.index('z') #index throws an error if the character not found"
   ]
  },
  {
   "cell_type": "code",
   "execution_count": 23,
   "id": "5cfb1cc7",
   "metadata": {},
   "outputs": [
    {
     "data": {
      "text/plain": [
       "-1"
      ]
     },
     "execution_count": 23,
     "metadata": {},
     "output_type": "execute_result"
    }
   ],
   "source": [
    "place.find('z') #find does not throw an error if the character not found but gives -1"
   ]
  },
  {
   "cell_type": "markdown",
   "id": "52397f0c",
   "metadata": {},
   "source": [
    "# 9. split"
   ]
  },
  {
   "cell_type": "code",
   "execution_count": 25,
   "id": "a3ca2ce9",
   "metadata": {},
   "outputs": [
    {
     "data": {
      "text/plain": [
       "['Chic', 'go']"
      ]
     },
     "execution_count": 25,
     "metadata": {},
     "output_type": "execute_result"
    }
   ],
   "source": [
    "split_place = place.split('a')\n",
    "\n",
    "split_place"
   ]
  },
  {
   "cell_type": "code",
   "execution_count": 26,
   "id": "8aa7fcb2",
   "metadata": {},
   "outputs": [],
   "source": [
    "new_place = 'New Orleans'"
   ]
  },
  {
   "cell_type": "code",
   "execution_count": 27,
   "id": "efaa18b3",
   "metadata": {},
   "outputs": [
    {
     "data": {
      "text/plain": [
       "['New', 'Orleans']"
      ]
     },
     "execution_count": 27,
     "metadata": {},
     "output_type": "execute_result"
    }
   ],
   "source": [
    "split_new_place = new_place.split(' ')\n",
    "\n",
    "split_new_place"
   ]
  },
  {
   "cell_type": "code",
   "execution_count": 28,
   "id": "4c340987",
   "metadata": {},
   "outputs": [
    {
     "data": {
      "text/plain": [
       "2"
      ]
     },
     "execution_count": 28,
     "metadata": {},
     "output_type": "execute_result"
    }
   ],
   "source": [
    "len(split_new_place)"
   ]
  },
  {
   "cell_type": "markdown",
   "id": "9adb88a9",
   "metadata": {},
   "source": [
    "# 10. join"
   ]
  },
  {
   "cell_type": "code",
   "execution_count": 29,
   "id": "66757593",
   "metadata": {},
   "outputs": [
    {
     "data": {
      "text/plain": [
       "'Chic,go'"
      ]
     },
     "execution_count": 29,
     "metadata": {},
     "output_type": "execute_result"
    }
   ],
   "source": [
    "join_char = ','\n",
    "\n",
    "join_char.join(split_place)"
   ]
  },
  {
   "cell_type": "code",
   "execution_count": 31,
   "id": "d7be7af1",
   "metadata": {},
   "outputs": [
    {
     "data": {
      "text/plain": [
       "'New,Orleans'"
      ]
     },
     "execution_count": 31,
     "metadata": {},
     "output_type": "execute_result"
    }
   ],
   "source": [
    "join_char.join(split_new_place)"
   ]
  },
  {
   "cell_type": "code",
   "execution_count": 32,
   "id": "f8fda098",
   "metadata": {},
   "outputs": [
    {
     "data": {
      "text/plain": [
       "'New Orleans'"
      ]
     },
     "execution_count": 32,
     "metadata": {},
     "output_type": "execute_result"
    }
   ],
   "source": [
    "join_char = ' '\n",
    "join_char.join(split_new_place)"
   ]
  },
  {
   "cell_type": "code",
   "execution_count": 33,
   "id": "ede46eb6",
   "metadata": {},
   "outputs": [
    {
     "data": {
      "text/plain": [
       "'Chic|go'"
      ]
     },
     "execution_count": 33,
     "metadata": {},
     "output_type": "execute_result"
    }
   ],
   "source": [
    "\"|\".join(split_place)"
   ]
  },
  {
   "cell_type": "code",
   "execution_count": 34,
   "id": "4f4d2c9f",
   "metadata": {},
   "outputs": [
    {
     "data": {
      "text/plain": [
       "'New|Orleans'"
      ]
     },
     "execution_count": 34,
     "metadata": {},
     "output_type": "execute_result"
    }
   ],
   "source": [
    "\"|\".join(split_new_place)"
   ]
  },
  {
   "cell_type": "code",
   "execution_count": null,
   "id": "ff24d529",
   "metadata": {},
   "outputs": [],
   "source": []
  }
 ],
 "metadata": {
  "kernelspec": {
   "display_name": "Python 3 (ipykernel)",
   "language": "python",
   "name": "python3"
  },
  "language_info": {
   "codemirror_mode": {
    "name": "ipython",
    "version": 3
   },
   "file_extension": ".py",
   "mimetype": "text/x-python",
   "name": "python",
   "nbconvert_exporter": "python",
   "pygments_lexer": "ipython3",
   "version": "3.9.12"
  }
 },
 "nbformat": 4,
 "nbformat_minor": 5
}
