{
 "cells": [
  {
   "cell_type": "code",
   "execution_count": 1,
   "id": "645a60c2",
   "metadata": {},
   "outputs": [
    {
     "data": {
      "text/plain": [
       "[1, 8, 30, 60, 78, 99]"
      ]
     },
     "execution_count": 1,
     "metadata": {},
     "output_type": "execute_result"
    }
   ],
   "source": [
    "list_num = [1,8,30,60,78,99]\n",
    "list_num"
   ]
  },
  {
   "cell_type": "code",
   "execution_count": 2,
   "id": "74bb905d",
   "metadata": {},
   "outputs": [
    {
     "data": {
      "text/plain": [
       "99"
      ]
     },
     "execution_count": 2,
     "metadata": {},
     "output_type": "execute_result"
    }
   ],
   "source": [
    "max(list_num)"
   ]
  },
  {
   "cell_type": "code",
   "execution_count": 3,
   "id": "875bd299",
   "metadata": {},
   "outputs": [
    {
     "data": {
      "text/plain": [
       "1"
      ]
     },
     "execution_count": 3,
     "metadata": {},
     "output_type": "execute_result"
    }
   ],
   "source": [
    "min(list_num)"
   ]
  },
  {
   "cell_type": "code",
   "execution_count": 4,
   "id": "32327c7f",
   "metadata": {},
   "outputs": [
    {
     "data": {
      "text/plain": [
       "6"
      ]
     },
     "execution_count": 4,
     "metadata": {},
     "output_type": "execute_result"
    }
   ],
   "source": [
    "len(list_num)"
   ]
  },
  {
   "cell_type": "code",
   "execution_count": 5,
   "id": "c6a992fc",
   "metadata": {},
   "outputs": [],
   "source": [
    "list_num.sort()"
   ]
  },
  {
   "cell_type": "code",
   "execution_count": 6,
   "id": "3f3669eb",
   "metadata": {},
   "outputs": [
    {
     "data": {
      "text/plain": [
       "[1, 8, 30, 60, 78, 99]"
      ]
     },
     "execution_count": 6,
     "metadata": {},
     "output_type": "execute_result"
    }
   ],
   "source": [
    "list_num"
   ]
  },
  {
   "cell_type": "code",
   "execution_count": 8,
   "id": "e7fdd0ad",
   "metadata": {},
   "outputs": [
    {
     "data": {
      "text/plain": [
       "[1, 8, 30, 60, 78, 99, 108, 28]"
      ]
     },
     "execution_count": 8,
     "metadata": {},
     "output_type": "execute_result"
    }
   ],
   "source": [
    "list_num.append(28)\n",
    "list_num"
   ]
  },
  {
   "cell_type": "code",
   "execution_count": 9,
   "id": "6686b687",
   "metadata": {},
   "outputs": [
    {
     "data": {
      "text/plain": [
       "[1, 8, 28, 30, 60, 78, 99, 108]"
      ]
     },
     "execution_count": 9,
     "metadata": {},
     "output_type": "execute_result"
    }
   ],
   "source": [
    "sorted_list_num = sorted(list_num)\n",
    "sorted_list_num"
   ]
  },
  {
   "cell_type": "markdown",
   "id": "141c2779",
   "metadata": {},
   "source": [
    "# Benefit of using sorted function is that the original list is not affected."
   ]
  },
  {
   "cell_type": "code",
   "execution_count": 10,
   "id": "4399eff3",
   "metadata": {},
   "outputs": [
    {
     "data": {
      "text/plain": [
       "[1, 8, 30, 60, 78, 99, 108, 28]"
      ]
     },
     "execution_count": 10,
     "metadata": {},
     "output_type": "execute_result"
    }
   ],
   "source": [
    "list_num"
   ]
  },
  {
   "cell_type": "code",
   "execution_count": 11,
   "id": "d4c93a19",
   "metadata": {},
   "outputs": [
    {
     "data": {
      "text/plain": [
       "412"
      ]
     },
     "execution_count": 11,
     "metadata": {},
     "output_type": "execute_result"
    }
   ],
   "source": [
    "sum(list_num)"
   ]
  },
  {
   "cell_type": "code",
   "execution_count": 12,
   "id": "f46b4c41",
   "metadata": {},
   "outputs": [
    {
     "data": {
      "text/plain": [
       "[1, 8, 30, 60, 78, 99, 108, 28, 1, 8, 30, 60, 78, 99, 108, 28]"
      ]
     },
     "execution_count": 12,
     "metadata": {},
     "output_type": "execute_result"
    }
   ],
   "source": [
    "list_num *= 2 \n",
    "list_num"
   ]
  },
  {
   "cell_type": "markdown",
   "id": "d3ce4123",
   "metadata": {},
   "source": [
    "# list_num *=2 is same as list_num = list_num * 2"
   ]
  },
  {
   "cell_type": "code",
   "execution_count": 13,
   "id": "4b94d7fd",
   "metadata": {},
   "outputs": [
    {
     "ename": "TypeError",
     "evalue": "can't multiply sequence by non-int of type 'float'",
     "output_type": "error",
     "traceback": [
      "\u001b[1;31m---------------------------------------------------------------------------\u001b[0m",
      "\u001b[1;31mTypeError\u001b[0m                                 Traceback (most recent call last)",
      "Input \u001b[1;32mIn [13]\u001b[0m, in \u001b[0;36m<cell line: 1>\u001b[1;34m()\u001b[0m\n\u001b[1;32m----> 1\u001b[0m list_num \u001b[38;5;241m*\u001b[39m\u001b[38;5;241m=\u001b[39m \u001b[38;5;241m2.0\u001b[39m\n",
      "\u001b[1;31mTypeError\u001b[0m: can't multiply sequence by non-int of type 'float'"
     ]
    }
   ],
   "source": [
    "list_num *= 2.0 #does not work with floats"
   ]
  },
  {
   "cell_type": "markdown",
   "id": "f9e409b6",
   "metadata": {},
   "source": [
    "# In python numeric 0 is considered as False and all values greater than 0 are true.\n",
    "\n",
    "# 1. all() - checks if all the elements in the list are greater than 0.\n",
    "\n",
    "# 2. any() - check to see whether any element in the list is true.\n"
   ]
  },
  {
   "cell_type": "code",
   "execution_count": 29,
   "id": "2cc800b8",
   "metadata": {},
   "outputs": [
    {
     "data": {
      "text/plain": [
       "False"
      ]
     },
     "execution_count": 29,
     "metadata": {},
     "output_type": "execute_result"
    }
   ],
   "source": [
    "all([0]) #It checks if all the elements in the list are greater than 0."
   ]
  },
  {
   "cell_type": "code",
   "execution_count": 17,
   "id": "e8debb68",
   "metadata": {},
   "outputs": [
    {
     "data": {
      "text/plain": [
       "True"
      ]
     },
     "execution_count": 17,
     "metadata": {},
     "output_type": "execute_result"
    }
   ],
   "source": [
    "all([1])"
   ]
  },
  {
   "cell_type": "code",
   "execution_count": 30,
   "id": "52cd23bc",
   "metadata": {},
   "outputs": [
    {
     "data": {
      "text/plain": [
       "False"
      ]
     },
     "execution_count": 30,
     "metadata": {},
     "output_type": "execute_result"
    }
   ],
   "source": [
    "all([0,1])"
   ]
  },
  {
   "cell_type": "code",
   "execution_count": 19,
   "id": "1eb168c3",
   "metadata": {},
   "outputs": [
    {
     "data": {
      "text/plain": [
       "[1, 8, 30, 60, 78, 99, 108, 28, 1, 8, 30, 60, 78, 99, 108, 28]"
      ]
     },
     "execution_count": 19,
     "metadata": {},
     "output_type": "execute_result"
    }
   ],
   "source": [
    "list_num"
   ]
  },
  {
   "cell_type": "code",
   "execution_count": 20,
   "id": "5c3b4229",
   "metadata": {},
   "outputs": [
    {
     "data": {
      "text/plain": [
       "True"
      ]
     },
     "execution_count": 20,
     "metadata": {},
     "output_type": "execute_result"
    }
   ],
   "source": [
    "all(list_num)"
   ]
  },
  {
   "cell_type": "code",
   "execution_count": 21,
   "id": "c5719357",
   "metadata": {},
   "outputs": [
    {
     "data": {
      "text/plain": [
       "False"
      ]
     },
     "execution_count": 21,
     "metadata": {},
     "output_type": "execute_result"
    }
   ],
   "source": [
    "any([0]) #Any function will check to see whether any element in the list is true."
   ]
  },
  {
   "cell_type": "code",
   "execution_count": 22,
   "id": "2bc70a2b",
   "metadata": {},
   "outputs": [
    {
     "data": {
      "text/plain": [
       "True"
      ]
     },
     "execution_count": 22,
     "metadata": {},
     "output_type": "execute_result"
    }
   ],
   "source": [
    "any([1])"
   ]
  },
  {
   "cell_type": "code",
   "execution_count": 23,
   "id": "1965adf1",
   "metadata": {},
   "outputs": [
    {
     "data": {
      "text/plain": [
       "True"
      ]
     },
     "execution_count": 23,
     "metadata": {},
     "output_type": "execute_result"
    }
   ],
   "source": [
    "any([0,1])"
   ]
  },
  {
   "cell_type": "code",
   "execution_count": 24,
   "id": "f9c30dbf",
   "metadata": {},
   "outputs": [
    {
     "data": {
      "text/plain": [
       "True"
      ]
     },
     "execution_count": 24,
     "metadata": {},
     "output_type": "execute_result"
    }
   ],
   "source": [
    "any(list_num)"
   ]
  },
  {
   "cell_type": "code",
   "execution_count": 26,
   "id": "062120cb",
   "metadata": {},
   "outputs": [],
   "source": [
    "new_num_list = []"
   ]
  },
  {
   "cell_type": "code",
   "execution_count": 27,
   "id": "c43dc31a",
   "metadata": {},
   "outputs": [
    {
     "data": {
      "text/plain": [
       "False"
      ]
     },
     "execution_count": 27,
     "metadata": {},
     "output_type": "execute_result"
    }
   ],
   "source": [
    "any(new_num_list)"
   ]
  },
  {
   "cell_type": "code",
   "execution_count": null,
   "id": "f9402c6c",
   "metadata": {},
   "outputs": [],
   "source": []
  },
  {
   "cell_type": "code",
   "execution_count": null,
   "id": "f9626fc8",
   "metadata": {},
   "outputs": [],
   "source": []
  }
 ],
 "metadata": {
  "kernelspec": {
   "display_name": "Python 3 (ipykernel)",
   "language": "python",
   "name": "python3"
  },
  "language_info": {
   "codemirror_mode": {
    "name": "ipython",
    "version": 3
   },
   "file_extension": ".py",
   "mimetype": "text/x-python",
   "name": "python",
   "nbconvert_exporter": "python",
   "pygments_lexer": "ipython3",
   "version": "3.9.12"
  }
 },
 "nbformat": 4,
 "nbformat_minor": 5
}
